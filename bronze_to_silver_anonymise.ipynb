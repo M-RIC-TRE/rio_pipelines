{
 "cells": [
  {
   "cell_type": "code",
   "execution_count": 0,
   "metadata": {
    "application/vnd.databricks.v1+cell": {
     "cellMetadata": {
      "byteLimit": 2048000,
      "rowLimit": 10000
     },
     "inputWidgets": {},
     "nuid": "37d519e8-d4ba-45e7-8128-896e9b731fbf",
     "showTitle": false,
     "title": ""
    }
   },
   "outputs": [
    {
     "output_type": "stream",
     "name": "stdout",
     "output_type": "stream",
     "text": [
      "Python interpreter will be restarted.\nRequirement already satisfied: httpx in /local_disk0/.ephemeral_nfs/envs/pythonEnv-c99d2567-630c-4ee5-a307-2745d617660c/lib/python3.9/site-packages (0.24.0)\nRequirement already satisfied: sniffio in /local_disk0/.ephemeral_nfs/envs/pythonEnv-c99d2567-630c-4ee5-a307-2745d617660c/lib/python3.9/site-packages (from httpx) (1.3.0)\nRequirement already satisfied: idna in /databricks/python3/lib/python3.9/site-packages (from httpx) (3.3)\nRequirement already satisfied: httpcore<0.18.0,>=0.15.0 in /local_disk0/.ephemeral_nfs/envs/pythonEnv-c99d2567-630c-4ee5-a307-2745d617660c/lib/python3.9/site-packages (from httpx) (0.17.0)\nRequirement already satisfied: certifi in /databricks/python3/lib/python3.9/site-packages (from httpx) (2021.10.8)\nRequirement already satisfied: anyio<5.0,>=3.0 in /local_disk0/.ephemeral_nfs/envs/pythonEnv-c99d2567-630c-4ee5-a307-2745d617660c/lib/python3.9/site-packages (from httpcore<0.18.0,>=0.15.0->httpx) (3.6.2)\nRequirement already satisfied: h11<0.15,>=0.13 in /local_disk0/.ephemeral_nfs/envs/pythonEnv-c99d2567-630c-4ee5-a307-2745d617660c/lib/python3.9/site-packages (from httpcore<0.18.0,>=0.15.0->httpx) (0.14.0)\nPython interpreter will be restarted.\n"
     ]
    }
   ],
   "source": [
    "%pip install httpx"
   ]
  },
  {
   "cell_type": "code",
   "execution_count": 0,
   "metadata": {
    "application/vnd.databricks.v1+cell": {
     "cellMetadata": {
      "byteLimit": 2048000,
      "rowLimit": 10000
     },
     "inputWidgets": {},
     "nuid": "aa4da708-d3fd-409d-9f30-b494c03608b2",
     "showTitle": false,
     "title": ""
    }
   },
   "outputs": [],
   "source": [
    "# Set environmental variables for testing purposes \n",
    "# TODO: TO BE REMOVED!\n",
    "import os\n",
    "os.environ[\"STORAGE_ACCOUNT\"] = r\"adlsinframricdev\"\n",
    "os.environ[\"STORAGE_CONNECTOR\"] = r\"adlsinframricdev.dfs.core.windows.net\"\n",
    "os.environ[\"STORAGE_ACCESSOR\"] = r\"fs.azure.account.key.adlsinframricdev.blob.core.windows.net\"\n",
    "os.environ[\"STORAGE_KEY\"] = r\"\"\n",
    "os.environ[\"BRONZE_CONTAINER\"] = r\"bronze\"\n",
    "os.environ[\"SILVER_CONTAINER\"] = r\"silver\"\n",
    "os.environ[\"GOLD_CONTAINER\"] = r\"gold\"\n",
    "os.environ[\"DATA_CATALOGUE_URL\"] = r\"http://davidsalac.eu/mcdatacatalogue/catalogue.json\"\n",
    "os.environ[\"HASH_SALT\"] = r\"\"\n",
    "os.environ[\"CLIENT_ID_HASH_SUFFIX\"] = r\"_Hash\"\n",
    "\n"
   ]
  },
  {
   "cell_type": "code",
   "execution_count": 0,
   "metadata": {
    "application/vnd.databricks.v1+cell": {
     "cellMetadata": {
      "byteLimit": 2048000,
      "rowLimit": 10000
     },
     "inputWidgets": {},
     "nuid": "56b679b7-b2af-40c4-a001-418519a0f286",
     "showTitle": false,
     "title": ""
    }
   },
   "outputs": [],
   "source": [
    "import os\n",
    "\n",
    "from pyspark.sql import SparkSession\n",
    "from pyspark.sql.functions import sha2, lit, concat, date_trunc\n",
    "import httpx\n",
    "\n",
    "# === CONFIG SECTION ===\n",
    "STORAGE_ACCOUNT: str = os.environ.get('STORAGE_ACCOUNT')\n",
    "STORAGE_CONNECTOR: str = os.environ.get('STORAGE_CONNECTOR')\n",
    "STORAGE_ACCESSOR: str = os.environ.get('STORAGE_ACCESSOR')\n",
    "STORAGE_KEY: str = os.environ.get('STORAGE_KEY')\n",
    "# a) Bronze Storage Container name:\n",
    "BRONZE_CONTAINER: str = os.environ.get('BRONZE_CONTAINER')\n",
    "# b) Silver Storage Container name:\n",
    "SILVER_CONTAINER: str = os.environ.get('SILVER_CONTAINER')\n",
    "# c) Gold Storage Container name\n",
    "GOLD_CONTAINER: str = os.environ.get('GOLD_CONTAINER')\n",
    "# d) Link to data catalogue\n",
    "DATA_CATALOGUE_URL: str = os.environ.get('DATA_CATALOGUE_URL')\n",
    "# e) Treatment for ClientID column:\n",
    "CLIENT_ID_HASH_SUFFIX: str = os.environ.get('CLIENT_ID_HASH_SUFFIX')\n",
    "HASH_SALT: str = os.environ.get('HASH_SALT')\n",
    "# ~~~~~~~~~~~~~~~~~~~~~~\n",
    "\n",
    "# === SET UP SPARK SESSION ===\n",
    "#session = SparkSession.builder.getOrCreate()\n",
    "#session.conf.set(STORAGE_ACCESSOR, STORAGE_KEY)\n",
    "# ~~~~~~~~~~~~~~~~~~~~~~~~~~~~\n",
    "\n",
    "# === READ DATA CATALOGUE ===\n",
    "data_catalogue_connector = httpx.get(DATA_CATALOGUE_URL, timeout=5)\n",
    "data_catalogue: dict = data_catalogue_connector.json()\n",
    "# ~~~~~~~~~~~~~~~~~~~~~~~~~~~"
   ]
  },
  {
   "cell_type": "code",
   "execution_count": 0,
   "metadata": {
    "application/vnd.databricks.v1+cell": {
     "cellMetadata": {},
     "inputWidgets": {},
     "nuid": "4b06eb72-1e70-4f5a-a41d-00b9e29bcea6",
     "showTitle": false,
     "title": ""
    }
   },
   "outputs": [],
   "source": [
    "# retreive ADF parameters\n",
    "kv_client_id = dbutils.widgets.get('client_id')\n",
    "kv_client_secret = dbutils.widgets.get('client_secret')"
   ]
  },
  {
   "cell_type": "code",
   "execution_count": 0,
   "metadata": {
    "application/vnd.databricks.v1+cell": {
     "cellMetadata": {
      "byteLimit": 2048000,
      "rowLimit": 10000
     },
     "inputWidgets": {},
     "nuid": "2f368830-0be3-402a-abaf-4488f8341f50",
     "showTitle": false,
     "title": ""
    }
   },
   "outputs": [],
   "source": [
    "#service_credential = dbutils.secrets.get(scope=\"flowehr-secrets\",key=\"<service-credential-key>\")\n",
    "client_id = dbutils.secrets.get(scope=\"flowehr-secrets\", key= kv_client_id)#\"flowehr-dbks-adls-app-id\")\n",
    "client_secret = dbutils.secrets.get(scope=\"flowehr-secrets\", key= kv_client_secret) #\"flowehr-dbks-adls-app-secret\")\n",
    "\n",
    "spark.conf.set(\"fs.azure.account.auth.type.adlsinframricdev.dfs.core.windows.net\", \"OAuth\")\n",
    "spark.conf.set(\"fs.azure.account.oauth.provider.type.adlsinframricdev.dfs.core.windows.net\", \"org.apache.hadoop.fs.azurebfs.oauth2.ClientCredsTokenProvider\")\n",
    "spark.conf.set(\"fs.azure.account.oauth2.client.id.adlsinframricdev.dfs.core.windows.net\", client_id)\n",
    "spark.conf.set(\"fs.azure.account.oauth2.client.secret.adlsinframricdev.dfs.core.windows.net\", client_secret)\n",
    "spark.conf.set(\"fs.azure.account.oauth2.client.endpoint.adlsinframricdev.dfs.core.windows.net\", \"https://login.microsoftonline.com/<tenant-id>/oauth2/token\")"
   ]
  },
  {
   "cell_type": "code",
   "execution_count": 0,
   "metadata": {
    "application/vnd.databricks.v1+cell": {
     "cellMetadata": {
      "byteLimit": 2048000,
      "rowLimit": 10000
     },
     "inputWidgets": {},
     "nuid": "1daf11ad-3318-4a37-8150-4784505c1404",
     "showTitle": false,
     "title": ""
    }
   },
   "outputs": [],
   "source": [
    "from pyspark.sql import SparkSession\n",
    "from pyspark.sql.functions import lit\n",
    "\n",
    "# Set up the SparkSession\n",
    "spark = SparkSession.builder.appName(\"ReadParquetFilesFromBlobStorage\").getOrCreate()\n",
    "\n",
    "# Set up the Azure Blob Storage account details\n",
    "account_name = \"\"\n",
    "account_key = \"\""
   ]
  },
  {
   "cell_type": "code",
   "execution_count": 0,
   "metadata": {
    "application/vnd.databricks.v1+cell": {
     "cellMetadata": {
      "byteLimit": 2048000,
      "rowLimit": 10000
     },
     "inputWidgets": {},
     "nuid": "87be6e34-4584-4239-ae88-47c04c8f6074",
     "showTitle": false,
     "title": ""
    }
   },
   "outputs": [],
   "source": [
    "\n",
    "# === FUNCTIONALITY BLOCK ===\n",
    "def hash_client_id(data_frame, columns: list[str]):\n",
    "    \"\"\"Create salted hash of the ClientID column.\n",
    "    Args:\n",
    "        data_frame: Data frame with potential ClientID column\n",
    "        columns (list[str]): List of columns with ClientID.\n",
    "    Returns:\n",
    "        Salted and hashed ClientID column inside a new Data Frame\n",
    "    \"\"\"\n",
    "    hashed_client_id_df = data_frame\n",
    "    for _column in columns:\n",
    "        # Merge ClientID with HASH_SALT (salting procedure)\n",
    "        hashed_client_id_df = hashed_client_id_df.withColumn(\n",
    "            _column,\n",
    "            concat(hashed_client_id_df[_column], lit(HASH_SALT))\n",
    "        )\n",
    "        # Compute hash value\n",
    "        hashed_client_id_df = hashed_client_id_df.withColumn(\n",
    "            \"\".join([_column, CLIENT_ID_HASH_SUFFIX]),\n",
    "            sha2(\n",
    "                hashed_client_id_df[_column].cast(\"Binary\"), 256\n",
    "            )\n",
    "        )\n",
    "        # Drop old columns\n",
    "        hashed_client_id_df = hashed_client_id_df.drop(_column)\n",
    "\n",
    "    return hashed_client_id_df\n",
    "\n",
    "\n",
    "def round_datetime_columns(data_frame, columns: list[str], round_option: str):\n",
    "    \"\"\"Rounds datetime columns on required option.\n",
    "    Args:\n",
    "        data_frame: Input dataframe.\n",
    "        columns (list[str]): List of columns which are rounded.\n",
    "        round_option (str): Option for rounding\n",
    "            (defined by PySpark, mainly \"hour\" and \"month\")\n",
    "    Returns:\n",
    "        New dataframe with rounded datetime columns.\n",
    "    \"\"\"\n",
    "    datetime_rounded_df = data_frame\n",
    "    for _column in columns:\n",
    "        datetime_rounded_df = datetime_rounded_df.withColumn(\n",
    "            _column,\n",
    "            date_trunc(round_option, data_frame[_column])\n",
    "        )\n",
    "    return datetime_rounded_df\n",
    "# ~~~~~~~~~~~~~~~~~~~~~~~~~~~\n",
    "\n",
    "\n",
    "# === MAIN APPLICATION LOOP ===\n",
    "# Goes through all tables in the bronze data storage\n",
    "for table_name, table in data_catalogue.items():\n",
    "    # Get file name in bronze storage (TableName.txt - without dots)\n",
    "    bronze_directory = \"raw/\"\n",
    "    silver_directory = \"transformed/\"\n",
    "    gold_directory = \"curated/\"\n",
    "\n",
    "    file_name_bronze = f'{bronze_directory}{table_name.replace(\"dbo.\", \"\")}.parquet'\n",
    "    file_name_silver = f'{silver_directory}{table_name.replace(\"dbo.\", \"\")}'\n",
    "    file_name_gold = f'{gold_directory}{table_name.replace(\"dbo.\", \"\")}'\n",
    "\n",
    "    # Read the file into Spark data frame\n",
    "    raw_table_df = spark.read.format(\"parquet\").load(f\"abfs://{BRONZE_CONTAINER}@{STORAGE_CONNECTOR}/{file_name_bronze}\")\n",
    "\n",
    "    # Hash ClientID column with salt\n",
    "    hashed_client_id_table_df = hash_client_id(raw_table_df,\n",
    "                                               table['client_id'])\n",
    "\n",
    "    # Drop all identifiable columns\n",
    "    if len(table['other_identifiable_columns']) != 0 :\n",
    "        deidentified_table_df = hashed_client_id_table_df.drop(*table['other_identifiable_columns'])\n",
    "    else:\n",
    "        deidentified_table_df = hashed_client_id_table_df\n",
    "\n",
    "    # Truncate all times to hours\n",
    "    hours_truncated_df = round_datetime_columns(deidentified_table_df,\n",
    "                                                table['date_time'],\n",
    "                                                \"hour\")\n",
    "\n",
    "    # Truncate all date of births to months\n",
    "    day_truncated_df = round_datetime_columns(hours_truncated_df,\n",
    "                                              table['date_of_birth'],\n",
    "                                              \"month\")\n",
    "\n",
    "    # Check if there is anything to be written (skips empty tables)\n",
    "    if len(\n",
    "        set(table['columns_descriptions'].keys()) - (\n",
    "            set(table['other_identifiable_columns'])\n",
    "        )\n",
    "    ) == 0:\n",
    "        continue\n",
    "\n",
    "    # Write table into silver storage\n",
    "    day_truncated_df.write.format('parquet').mode('overwrite').save(f\"abfs://{SILVER_CONTAINER}@{STORAGE_CONNECTOR}/{file_name_silver}\")\n",
    "\n",
    "    # Drop columns with free text\n",
    "    if len(table['free_text_columns']) != 0 :\n",
    "        no_free_text_table_df = day_truncated_df.drop(*table['free_text_columns'])\n",
    "    else:\n",
    "        no_free_text_table_df = day_truncated_df\n",
    "\n",
    "    # Check if there is anything to be written (skips empty tables)\n",
    "    if len(\n",
    "        set(table['columns_descriptions'].keys()) - (\n",
    "            set(table['free_text_columns']) |\n",
    "            set(table['other_identifiable_columns'])\n",
    "        )\n",
    "    ) == 0:\n",
    "        continue\n",
    "\n",
    "    # Write table into gold storage\n",
    "    no_free_text_table_df.write.format('parquet').mode('overwrite').save(f\"abfs://{GOLD_CONTAINER}@{STORAGE_CONNECTOR}/{file_name_gold}\")\n"
   ]
  },
  {
   "cell_type": "code",
   "execution_count": 0,
   "metadata": {
    "application/vnd.databricks.v1+cell": {
     "cellMetadata": {
      "byteLimit": 2048000,
      "rowLimit": 10000
     },
     "inputWidgets": {},
     "nuid": "b4c2f4cc-aaa6-48b5-b6c1-7fdb366080ab",
     "showTitle": false,
     "title": ""
    }
   },
   "outputs": [
    {
     "output_type": "display_data",
     "data": {
      "text/html": [
       "<style scoped>\n",
       "  .table-result-container {\n",
       "    max-height: 300px;\n",
       "    overflow: auto;\n",
       "  }\n",
       "  table, th, td {\n",
       "    border: 1px solid black;\n",
       "    border-collapse: collapse;\n",
       "  }\n",
       "  th, td {\n",
       "    padding: 5px;\n",
       "  }\n",
       "  th {\n",
       "    text-align: left;\n",
       "  }\n",
       "</style><div class='table-result-container'><table class='table-result'><thead style='background-color: white'><tr><th>SequenceID</th><th>ReferralID</th><th>InitialContactFlag</th><th>ActualTime</th><th>ActualDuration</th><th>ArrivalTime</th><th>Outcome</th><th>CancellationDateTime</th><th>CancellationReason</th><th>CancellationBy</th><th>NonClientAppointmentFlag</th><th>FaceToFaceContact</th><th>StaffProfessionalGroup</th><th>ContactID</th><th>TimeStamps</th><th>AppointmentConsultationMedium</th><th>ProxyContact</th><th>SecondArrivalTime</th><th>BookedStatus</th><th>InterpreterStatus</th><th>InterpreterLanguage</th><th>TransportStatus</th><th>CancellationOnBehalfOf</th><th>CancellationDateTimestamp</th><th>IsFamilyMember</th><th>DischargeReport</th><th>InviteType</th><th>ePathwayID</th><th>PerinatalMhAss</th><th>IMCA</th><th>IMHA</th><th>ReasonableAdjMade</th><th>ClientID_Hash</th><th>RelatedClientID_Hash</th></tr></thead><tbody><tr><td>2149</td><td>27706</td><td>true</td><td>2013-01-23T19:00:00.000+0000</td><td>23316</td><td>2027-04-27T20:00:00.000+0000</td><td>RSeAQB0dbVvWcAadEAoC</td><td>1982-10-24T19:00:00.000+0000</td><td>qzHeUBbOeWCd9KSnTZw3</td><td>RN1sW3JgD0iZFuBvEtoP</td><td>false</td><td>true</td><td>JsqIL3AkKgFTQtCP0cs5</td><td>13528</td><td>AAAAAAAAAAAAAAAAAAAAAAAME+I=</td><td>ROmssl4Rhb8AfoRrACRj</td><td>true</td><td>2007-09-05T05:41:36.000+0000</td><td>DnNR7tnzoaiX5yED97MM</td><td>s3jbVZBShRClBYvbEcei</td><td>E94U4gPbK9Ynn3lfWCUs</td><td>y5Kk1YNnWlHwunNvS23V</td><td>QcFsARp2VDSiYsnULVDy</td><td>2010-10-24T11:19:54.000+0000</td><td>false</td><td>31796</td><td>12064</td><td>21275</td><td>CpeIyg1Gv67JM06NBADj</td><td>goFDN5xH1TmjOcB39Xpa</td><td>fA1GEXPqYNv47QfWCbwq</td><td>YMK8AacIXl4BZ5UQACI2</td><td>455ac7b4b8007989a6e92e5477e83a776a0903100a8da52fe149df51ca107f15</td><td>e485e8039514654a7e0d5a5b77135aa42db799b3cd5ce6df268730ae20929802</td></tr><tr><td>6089</td><td>1821</td><td>true</td><td>2009-12-06T21:00:00.000+0000</td><td>19209</td><td>1977-04-22T19:00:00.000+0000</td><td>uxQf72UMuh5RuhO0riKx</td><td>2019-06-04T00:00:00.000+0000</td><td>KkGCsxQAtEYDlYlbCDph</td><td>Tu23Aj1KEaJxX5f4Gsw9</td><td>false</td><td>true</td><td>2CeEMj8FVh46oqo1n3cc</td><td>14252</td><td>AAAAAAAAAAAAAAAAAAAAAAAE0qY=</td><td>RfHOkyNm8EuFh8du1hbT</td><td>false</td><td>1971-02-18T17:57:31.000+0000</td><td>p92G38FXKZeNFYUH7lUK</td><td>J1ZhJVZBRce79mIBmLF9</td><td>cuSvZ9izVCc2jvutdIfV</td><td>IKKtf2pdLMq58EzySVr6</td><td>i2aU4oDRkYn0aluZxwBk</td><td>2001-06-11T02:43:43.000+0000</td><td>true</td><td>15732</td><td>24592</td><td>29684</td><td>1Rdki3GYLwlDJdYkd037</td><td>fZIsHEOGpquFyb1JMThc</td><td>ooADVLNP1ibUPGLPyd3C</td><td>OT6Cy4IwsTckKTvDsFta</td><td>40745ddb4dad00609b4f0d09243d80e12fea0195984c1cb56030c36ab1bfbaff</td><td>8816d5f8393c546218a8c178764bebc43894fa7fef65252a20346f348a9fa455</td></tr><tr><td>13086</td><td>18106</td><td>false</td><td>2013-11-27T05:00:00.000+0000</td><td>1924</td><td>1993-07-04T21:00:00.000+0000</td><td>hp4PL2C1P91L59cuoscL</td><td>2022-05-27T00:00:00.000+0000</td><td>0vM7bKOPocPagmyV3WMz</td><td>9QsZvVPXCyvIBvOJpfB8</td><td>true</td><td>true</td><td>NHP0letwBWRixofq6Wp5</td><td>15306</td><td>AAAAAAAAAAAAAAAAAAAAAAAKFks=</td><td>2Yr7sPhcSJbmhvTbkR3v</td><td>true</td><td>2016-07-11T11:43:32.000+0000</td><td>RJ0R7tyhSLDYgu2w5eVL</td><td>dTRxuv4jWL2n1uFbxLzh</td><td>NdtrodJESimlw4fvC6yU</td><td>8usHRMuC89ZvIlW6oZe7</td><td>0SuFOdjkHVtTso5SF9j9</td><td>1989-05-24T05:40:17.000+0000</td><td>false</td><td>15311</td><td>3876</td><td>15887</td><td>oyO5LRP1oPM72MKsFz3R</td><td>zYRsUbHpQDDqYBjBo2Fs</td><td>MSbZZgWehj3QJxM1vhrV</td><td>UV6YTHztA4atFmvpw43h</td><td>fb53d833c14655f691033be2a865423d348a117abd1a9f8cf076adf7dc812d66</td><td>76ba1feea437049ad0d2e8800fc28654e29a6f0e023f7df552fe680bd7ecabf6</td></tr><tr><td>15373</td><td>4053</td><td>true</td><td>1992-10-16T17:00:00.000+0000</td><td>13159</td><td>2017-04-20T22:00:00.000+0000</td><td>Gu09OrMdIoZyEnZcNf5L</td><td>2023-02-06T09:00:00.000+0000</td><td>ItoQv7UBI7DMqvUUGnH8</td><td>JDNL9h2bXM4Yz9DKTgZz</td><td>true</td><td>true</td><td>qOq9Nz9a11WkdblICpiC</td><td>31777</td><td>AAAAAAAAAAAAAAAAAAAAAAAIn8g=</td><td>v9m3FZvY5Z3fsDjf3cBt</td><td>false</td><td>1984-06-18T20:37:55.000+0000</td><td>01vNpdbHdGHCD7FsomEY</td><td>LMmsRQ7xn16pBc5gmNfp</td><td>dWmMBmjbSIIYwD8z8KwJ</td><td>rzLHCK9FEkuhPa4EhyrO</td><td>ZhuHpZICFhqgnz4fWJA3</td><td>1994-04-25T02:07:54.000+0000</td><td>true</td><td>11130</td><td>12202</td><td>21604</td><td>oZ4AAowtRXAMq8C9lEv8</td><td>D3HaTzgWRswzhZLU2Yw8</td><td>igfrjrIaStg98C31UikL</td><td>9xXVnbwZyYDfG8bPK8xO</td><td>f227726dd1037ea38a1cb1fca6a33a2db49c2259017278bea5c9e3e20ab5c00b</td><td>5105e44953a67d13546fde284f967de4ea0370b98e6d8f94844ff56393256d6a</td></tr><tr><td>16519</td><td>6423</td><td>false</td><td>1980-10-07T15:00:00.000+0000</td><td>9043</td><td>1983-08-24T11:00:00.000+0000</td><td>k2WQ8wMC8lDgUVYm9qwi</td><td>1988-01-01T01:00:00.000+0000</td><td>n0pKx8y6le6WuSjWSld7</td><td>Y06PDp9aRdh1RpaxRXR2</td><td>false</td><td>true</td><td>Ob2CYSWNNY9YecWCPoax</td><td>19379</td><td>AAAAAAAAAAAAAAAAAAAAAAAHVvM=</td><td>chhkJCvyL0MNJLGEgsuU</td><td>true</td><td>1975-08-19T15:01:45.000+0000</td><td>gQRWa7IxOj0Dv9tJO5jZ</td><td>yTbPCj4tuKJW8jexFiGj</td><td>MNnkX78zmtTVGHqzyNTq</td><td>1fKIEl9WKiyjlR08EVSS</td><td>hGWX920HkqKPbU3FQLBy</td><td>2017-08-22T20:07:54.000+0000</td><td>false</td><td>870</td><td>16201</td><td>13638</td><td>hbaV3Kz5oEyOKxVcw2Rq</td><td>ZpEuAObSkGVLoWxdqgVh</td><td>OoAUagoAtVuAmkkO0o9E</td><td>9BUJ93VRmixIIPPb7wnB</td><td>7bd43a6defd11ae248bef492abd34cab832735eb5e8be0d90b20ba8401e33c8d</td><td>9a32bf0798951be187967c3c448fbd1d2571fbcb13e8d1c6d89e18457423854f</td></tr><tr><td>18947</td><td>12156</td><td>true</td><td>2014-04-20T10:00:00.000+0000</td><td>8186</td><td>1979-02-13T07:00:00.000+0000</td><td>ea7f7Y2BNBHAZqbIdhvm</td><td>2019-07-18T10:00:00.000+0000</td><td>MZNsXBGpGfQ0lIb74gEJ</td><td>2GEAwJ3IEbn1VJNpvCUI</td><td>true</td><td>true</td><td>Iha8LXltwvl1sLY1DbGi</td><td>29105</td><td>AAAAAAAAAAAAAAAAAAAAAAALDYs=</td><td>Wlat1pu1fJFfW3MpCMJD</td><td>true</td><td>1995-12-09T17:22:42.000+0000</td><td>YLo6pCjy3j0ZRMfcXroO</td><td>u0qvYsJWXXKrsdQBzkG8</td><td>g9khVUC7thQPyRNjFYg6</td><td>y3OYoMvLipXPWMBr1gHA</td><td>oPkBzxxe4mcKS9D4tg7E</td><td>1987-10-12T05:21:18.000+0000</td><td>true</td><td>3489</td><td>4715</td><td>5269</td><td>fXfMe1WMa2GxBvJv6H4y</td><td>NEWytQjOKakC1vNtmKvH</td><td>Fw5ag7Heya5BqBVwiTZx</td><td>1HnyokW3hKlkfG09nUd4</td><td>c98db53358819d7d6588bd4ccea74ec7eb93e793412801ecf8c4e050694e54a6</td><td>2b9efc80e56a2478d6f449ae40a662b3611f27802f3dcc4de586c8299c2826a2</td></tr><tr><td>22451</td><td>13129</td><td>true</td><td>1994-04-14T07:00:00.000+0000</td><td>23867</td><td>2013-05-10T14:00:00.000+0000</td><td>V8xcLpG4e5JJizSZjPwu</td><td>2027-10-15T11:00:00.000+0000</td><td>by80LJ0NnbmTUshcW0Mc</td><td>JSEg94OIva37ipSx4faq</td><td>false</td><td>false</td><td>otu5q7HqmkRamfqKLaMF</td><td>6880</td><td>AAAAAAAAAAAAAAAAAAAAAAACFSU=</td><td>vm1ufw32HEfLVSapXAHF</td><td>false</td><td>2001-11-09T21:43:09.000+0000</td><td>DIOMsJXPoVmRvn7OTe8s</td><td>CNP2yNGKHfyGbUl80X6k</td><td>9QEdNA4ISMPx6vSzu96j</td><td>TGimmCm2Pdc4KKzwppEp</td><td>vnl1ej1DYIibHswyXLxB</td><td>1990-02-19T00:20:00.000+0000</td><td>true</td><td>31117</td><td>11231</td><td>11595</td><td>qbPsP1Y9FgN1EokKCcnm</td><td>MzCG1jBRt3cvxwExyupW</td><td>nb7VWzSeWFLvBnuNoi0F</td><td>SiOQZKW9GYoZpCKaPsY1</td><td>c660403dcd40cf936763394821fb76b5147c67b561c0f5a79b98eb48581fac46</td><td>d7bdd7149cb1ed1cb5fb4a7090e1941ccbcdacefb5e109032692e8b740ee3f23</td></tr><tr><td>23324</td><td>21225</td><td>true</td><td>2020-01-08T09:00:00.000+0000</td><td>29595</td><td>1977-09-01T18:00:00.000+0000</td><td>Jk7viuCScfCoqQRXLUA1</td><td>2001-05-01T19:00:00.000+0000</td><td>EjyIGVfzqAqrSKclMaLL</td><td>YHuK1AHjiZQPjzbVTNPU</td><td>true</td><td>true</td><td>VAZkgbBfParWr7BqbdDW</td><td>31173</td><td>AAAAAAAAAAAAAAAAAAAAAAAKXtw=</td><td>AteoIy7NxkdQ6CZQsCpn</td><td>false</td><td>1991-11-18T14:16:59.000+0000</td><td>RKizThF1z2Ysg2fMYbaU</td><td>n2p2VUjSkIATfmJk2rcv</td><td>htDMxPUL3QZIHhp3Aj8U</td><td>JDCdhnQCwaKkVBevhvtx</td><td>OMRxY8DDVqTHsdzTrJXP</td><td>2018-04-13T13:49:04.000+0000</td><td>true</td><td>2393</td><td>18161</td><td>1430</td><td>dfYnvJfgMhLNeFqkR6Ce</td><td>93h6PgDEQi2XRpWSJLT5</td><td>aWTLCH0RJufPicrjB3NK</td><td>CUT4uphQd0cCzP8wgxHm</td><td>b4f79751bcb364552d827a8e56df155576f5fd5b9e9ea2c35bf94f292ea585c3</td><td>1136921dcee12c3b5d2d01153ff505b965676801c155b2326f7c02007fa64ea5</td></tr><tr><td>27340</td><td>30453</td><td>true</td><td>2029-03-18T02:00:00.000+0000</td><td>22209</td><td>2001-04-09T14:00:00.000+0000</td><td>s52Igp8p6IFozekHIKMg</td><td>2021-10-23T01:00:00.000+0000</td><td>OL7luIX2qovXAABbzkTA</td><td>mY4x4OhL4T7BrOb4sBM8</td><td>true</td><td>true</td><td>zci7oonvFyegQyi24Bjf</td><td>14949</td><td>AAAAAAAAAAAAAAAAAAAAAAAICIg=</td><td>LD0wfTCeG4n4v8rQHmVK</td><td>false</td><td>1975-09-08T05:57:00.000+0000</td><td>nDZvPV8OpCi2utrBDeji</td><td>G3ZA91vG5iifR2RiLU0F</td><td>wLVJTDCPNHFIFSjaMiv3</td><td>kVSldUDMRrOEZ6leYyCH</td><td>cioXq1uxnn3YW0q2vrTX</td><td>1988-07-16T12:10:57.000+0000</td><td>false</td><td>5491</td><td>5123</td><td>27611</td><td>5MQgJkCqM1LbNrzsqU3F</td><td>f87lbJTMJBbReigiY4CT</td><td>eLMy8KPZ1GiaagN4IrGb</td><td>Z9fmBcT3qYtGEd3qkgaH</td><td>dc4dedce295b91818f120dfd2edd432d440267cf2b52d0ac9524b42bda1222c6</td><td>007d6c0c856e08c73fb2024b99587b7e6430f070e3972fbeae9c6858ef196cbd</td></tr><tr><td>27383</td><td>6737</td><td>true</td><td>1992-07-13T19:00:00.000+0000</td><td>3920</td><td>2019-04-19T05:00:00.000+0000</td><td>l0SFDHzgM9H8GZNdKhKB</td><td>2020-02-17T18:00:00.000+0000</td><td>DdoWPXpYFlsQ7clNq63B</td><td>WkIUIwXF7Uk5DMdWdtIH</td><td>true</td><td>false</td><td>bS0dLWnWAThkPsf16DuE</td><td>4225</td><td>AAAAAAAAAAAAAAAAAAAAAAAGLTQ=</td><td>K2N30Q3nZSyy9QCokWsU</td><td>false</td><td>1973-02-09T06:26:42.000+0000</td><td>w59dEc21vZoboHPI5Uiu</td><td>ALFLCiUHN2yWkQLDm9EE</td><td>RvwzRLaXMo27G0rm6tNB</td><td>gdheUgTeKHQ2P3001L07</td><td>lZ68ddnW44TrG8Ht23aD</td><td>1990-03-01T14:04:15.000+0000</td><td>false</td><td>17723</td><td>29544</td><td>25886</td><td>ouKoUz8ONHXSJHR5YyWu</td><td>bsVpPzOuRqgrUarSQmda</td><td>IhwJODXGimMheO2qNzyl</td><td>hETMRgYJbnr3UMzSxJnE</td><td>ad7f5bb92174d32c98633fabafc18422cf52b3ab5cc94e9e33db8fb0a1bf5cf2</td><td>c5274dab7db63006b4fd3e1994e4088d16d7da74de96b5a41a44d68678a230d5</td></tr></tbody></table></div>"
      ]
     },
     "metadata": {
      "application/vnd.databricks.v1+output": {
       "addedWidgets": {},
       "aggData": [],
       "aggError": "",
       "aggOverflow": false,
       "aggSchema": [],
       "aggSeriesLimitReached": false,
       "aggType": "",
       "arguments": {},
       "columnCustomDisplayInfos": {},
       "data": [
        [
         2149,
         27706,
         true,
         "2013-01-23T19:00:00.000+0000",
         23316,
         "2027-04-27T20:00:00.000+0000",
         "RSeAQB0dbVvWcAadEAoC",
         "1982-10-24T19:00:00.000+0000",
         "qzHeUBbOeWCd9KSnTZw3",
         "RN1sW3JgD0iZFuBvEtoP",
         false,
         true,
         "JsqIL3AkKgFTQtCP0cs5",
         13528,
         "AAAAAAAAAAAAAAAAAAAAAAAME+I=",
         "ROmssl4Rhb8AfoRrACRj",
         true,
         "2007-09-05T05:41:36.000+0000",
         "DnNR7tnzoaiX5yED97MM",
         "s3jbVZBShRClBYvbEcei",
         "E94U4gPbK9Ynn3lfWCUs",
         "y5Kk1YNnWlHwunNvS23V",
         "QcFsARp2VDSiYsnULVDy",
         "2010-10-24T11:19:54.000+0000",
         false,
         31796,
         12064,
         21275,
         "CpeIyg1Gv67JM06NBADj",
         "goFDN5xH1TmjOcB39Xpa",
         "fA1GEXPqYNv47QfWCbwq",
         "YMK8AacIXl4BZ5UQACI2",
         "455ac7b4b8007989a6e92e5477e83a776a0903100a8da52fe149df51ca107f15",
         "e485e8039514654a7e0d5a5b77135aa42db799b3cd5ce6df268730ae20929802"
        ],
        [
         6089,
         1821,
         true,
         "2009-12-06T21:00:00.000+0000",
         19209,
         "1977-04-22T19:00:00.000+0000",
         "uxQf72UMuh5RuhO0riKx",
         "2019-06-04T00:00:00.000+0000",
         "KkGCsxQAtEYDlYlbCDph",
         "Tu23Aj1KEaJxX5f4Gsw9",
         false,
         true,
         "2CeEMj8FVh46oqo1n3cc",
         14252,
         "AAAAAAAAAAAAAAAAAAAAAAAE0qY=",
         "RfHOkyNm8EuFh8du1hbT",
         false,
         "1971-02-18T17:57:31.000+0000",
         "p92G38FXKZeNFYUH7lUK",
         "J1ZhJVZBRce79mIBmLF9",
         "cuSvZ9izVCc2jvutdIfV",
         "IKKtf2pdLMq58EzySVr6",
         "i2aU4oDRkYn0aluZxwBk",
         "2001-06-11T02:43:43.000+0000",
         true,
         15732,
         24592,
         29684,
         "1Rdki3GYLwlDJdYkd037",
         "fZIsHEOGpquFyb1JMThc",
         "ooADVLNP1ibUPGLPyd3C",
         "OT6Cy4IwsTckKTvDsFta",
         "40745ddb4dad00609b4f0d09243d80e12fea0195984c1cb56030c36ab1bfbaff",
         "8816d5f8393c546218a8c178764bebc43894fa7fef65252a20346f348a9fa455"
        ],
        [
         13086,
         18106,
         false,
         "2013-11-27T05:00:00.000+0000",
         1924,
         "1993-07-04T21:00:00.000+0000",
         "hp4PL2C1P91L59cuoscL",
         "2022-05-27T00:00:00.000+0000",
         "0vM7bKOPocPagmyV3WMz",
         "9QsZvVPXCyvIBvOJpfB8",
         true,
         true,
         "NHP0letwBWRixofq6Wp5",
         15306,
         "AAAAAAAAAAAAAAAAAAAAAAAKFks=",
         "2Yr7sPhcSJbmhvTbkR3v",
         true,
         "2016-07-11T11:43:32.000+0000",
         "RJ0R7tyhSLDYgu2w5eVL",
         "dTRxuv4jWL2n1uFbxLzh",
         "NdtrodJESimlw4fvC6yU",
         "8usHRMuC89ZvIlW6oZe7",
         "0SuFOdjkHVtTso5SF9j9",
         "1989-05-24T05:40:17.000+0000",
         false,
         15311,
         3876,
         15887,
         "oyO5LRP1oPM72MKsFz3R",
         "zYRsUbHpQDDqYBjBo2Fs",
         "MSbZZgWehj3QJxM1vhrV",
         "UV6YTHztA4atFmvpw43h",
         "fb53d833c14655f691033be2a865423d348a117abd1a9f8cf076adf7dc812d66",
         "76ba1feea437049ad0d2e8800fc28654e29a6f0e023f7df552fe680bd7ecabf6"
        ],
        [
         15373,
         4053,
         true,
         "1992-10-16T17:00:00.000+0000",
         13159,
         "2017-04-20T22:00:00.000+0000",
         "Gu09OrMdIoZyEnZcNf5L",
         "2023-02-06T09:00:00.000+0000",
         "ItoQv7UBI7DMqvUUGnH8",
         "JDNL9h2bXM4Yz9DKTgZz",
         true,
         true,
         "qOq9Nz9a11WkdblICpiC",
         31777,
         "AAAAAAAAAAAAAAAAAAAAAAAIn8g=",
         "v9m3FZvY5Z3fsDjf3cBt",
         false,
         "1984-06-18T20:37:55.000+0000",
         "01vNpdbHdGHCD7FsomEY",
         "LMmsRQ7xn16pBc5gmNfp",
         "dWmMBmjbSIIYwD8z8KwJ",
         "rzLHCK9FEkuhPa4EhyrO",
         "ZhuHpZICFhqgnz4fWJA3",
         "1994-04-25T02:07:54.000+0000",
         true,
         11130,
         12202,
         21604,
         "oZ4AAowtRXAMq8C9lEv8",
         "D3HaTzgWRswzhZLU2Yw8",
         "igfrjrIaStg98C31UikL",
         "9xXVnbwZyYDfG8bPK8xO",
         "f227726dd1037ea38a1cb1fca6a33a2db49c2259017278bea5c9e3e20ab5c00b",
         "5105e44953a67d13546fde284f967de4ea0370b98e6d8f94844ff56393256d6a"
        ],
        [
         16519,
         6423,
         false,
         "1980-10-07T15:00:00.000+0000",
         9043,
         "1983-08-24T11:00:00.000+0000",
         "k2WQ8wMC8lDgUVYm9qwi",
         "1988-01-01T01:00:00.000+0000",
         "n0pKx8y6le6WuSjWSld7",
         "Y06PDp9aRdh1RpaxRXR2",
         false,
         true,
         "Ob2CYSWNNY9YecWCPoax",
         19379,
         "AAAAAAAAAAAAAAAAAAAAAAAHVvM=",
         "chhkJCvyL0MNJLGEgsuU",
         true,
         "1975-08-19T15:01:45.000+0000",
         "gQRWa7IxOj0Dv9tJO5jZ",
         "yTbPCj4tuKJW8jexFiGj",
         "MNnkX78zmtTVGHqzyNTq",
         "1fKIEl9WKiyjlR08EVSS",
         "hGWX920HkqKPbU3FQLBy",
         "2017-08-22T20:07:54.000+0000",
         false,
         870,
         16201,
         13638,
         "hbaV3Kz5oEyOKxVcw2Rq",
         "ZpEuAObSkGVLoWxdqgVh",
         "OoAUagoAtVuAmkkO0o9E",
         "9BUJ93VRmixIIPPb7wnB",
         "7bd43a6defd11ae248bef492abd34cab832735eb5e8be0d90b20ba8401e33c8d",
         "9a32bf0798951be187967c3c448fbd1d2571fbcb13e8d1c6d89e18457423854f"
        ],
        [
         18947,
         12156,
         true,
         "2014-04-20T10:00:00.000+0000",
         8186,
         "1979-02-13T07:00:00.000+0000",
         "ea7f7Y2BNBHAZqbIdhvm",
         "2019-07-18T10:00:00.000+0000",
         "MZNsXBGpGfQ0lIb74gEJ",
         "2GEAwJ3IEbn1VJNpvCUI",
         true,
         true,
         "Iha8LXltwvl1sLY1DbGi",
         29105,
         "AAAAAAAAAAAAAAAAAAAAAAALDYs=",
         "Wlat1pu1fJFfW3MpCMJD",
         true,
         "1995-12-09T17:22:42.000+0000",
         "YLo6pCjy3j0ZRMfcXroO",
         "u0qvYsJWXXKrsdQBzkG8",
         "g9khVUC7thQPyRNjFYg6",
         "y3OYoMvLipXPWMBr1gHA",
         "oPkBzxxe4mcKS9D4tg7E",
         "1987-10-12T05:21:18.000+0000",
         true,
         3489,
         4715,
         5269,
         "fXfMe1WMa2GxBvJv6H4y",
         "NEWytQjOKakC1vNtmKvH",
         "Fw5ag7Heya5BqBVwiTZx",
         "1HnyokW3hKlkfG09nUd4",
         "c98db53358819d7d6588bd4ccea74ec7eb93e793412801ecf8c4e050694e54a6",
         "2b9efc80e56a2478d6f449ae40a662b3611f27802f3dcc4de586c8299c2826a2"
        ],
        [
         22451,
         13129,
         true,
         "1994-04-14T07:00:00.000+0000",
         23867,
         "2013-05-10T14:00:00.000+0000",
         "V8xcLpG4e5JJizSZjPwu",
         "2027-10-15T11:00:00.000+0000",
         "by80LJ0NnbmTUshcW0Mc",
         "JSEg94OIva37ipSx4faq",
         false,
         false,
         "otu5q7HqmkRamfqKLaMF",
         6880,
         "AAAAAAAAAAAAAAAAAAAAAAACFSU=",
         "vm1ufw32HEfLVSapXAHF",
         false,
         "2001-11-09T21:43:09.000+0000",
         "DIOMsJXPoVmRvn7OTe8s",
         "CNP2yNGKHfyGbUl80X6k",
         "9QEdNA4ISMPx6vSzu96j",
         "TGimmCm2Pdc4KKzwppEp",
         "vnl1ej1DYIibHswyXLxB",
         "1990-02-19T00:20:00.000+0000",
         true,
         31117,
         11231,
         11595,
         "qbPsP1Y9FgN1EokKCcnm",
         "MzCG1jBRt3cvxwExyupW",
         "nb7VWzSeWFLvBnuNoi0F",
         "SiOQZKW9GYoZpCKaPsY1",
         "c660403dcd40cf936763394821fb76b5147c67b561c0f5a79b98eb48581fac46",
         "d7bdd7149cb1ed1cb5fb4a7090e1941ccbcdacefb5e109032692e8b740ee3f23"
        ],
        [
         23324,
         21225,
         true,
         "2020-01-08T09:00:00.000+0000",
         29595,
         "1977-09-01T18:00:00.000+0000",
         "Jk7viuCScfCoqQRXLUA1",
         "2001-05-01T19:00:00.000+0000",
         "EjyIGVfzqAqrSKclMaLL",
         "YHuK1AHjiZQPjzbVTNPU",
         true,
         true,
         "VAZkgbBfParWr7BqbdDW",
         31173,
         "AAAAAAAAAAAAAAAAAAAAAAAKXtw=",
         "AteoIy7NxkdQ6CZQsCpn",
         false,
         "1991-11-18T14:16:59.000+0000",
         "RKizThF1z2Ysg2fMYbaU",
         "n2p2VUjSkIATfmJk2rcv",
         "htDMxPUL3QZIHhp3Aj8U",
         "JDCdhnQCwaKkVBevhvtx",
         "OMRxY8DDVqTHsdzTrJXP",
         "2018-04-13T13:49:04.000+0000",
         true,
         2393,
         18161,
         1430,
         "dfYnvJfgMhLNeFqkR6Ce",
         "93h6PgDEQi2XRpWSJLT5",
         "aWTLCH0RJufPicrjB3NK",
         "CUT4uphQd0cCzP8wgxHm",
         "b4f79751bcb364552d827a8e56df155576f5fd5b9e9ea2c35bf94f292ea585c3",
         "1136921dcee12c3b5d2d01153ff505b965676801c155b2326f7c02007fa64ea5"
        ],
        [
         27340,
         30453,
         true,
         "2029-03-18T02:00:00.000+0000",
         22209,
         "2001-04-09T14:00:00.000+0000",
         "s52Igp8p6IFozekHIKMg",
         "2021-10-23T01:00:00.000+0000",
         "OL7luIX2qovXAABbzkTA",
         "mY4x4OhL4T7BrOb4sBM8",
         true,
         true,
         "zci7oonvFyegQyi24Bjf",
         14949,
         "AAAAAAAAAAAAAAAAAAAAAAAICIg=",
         "LD0wfTCeG4n4v8rQHmVK",
         false,
         "1975-09-08T05:57:00.000+0000",
         "nDZvPV8OpCi2utrBDeji",
         "G3ZA91vG5iifR2RiLU0F",
         "wLVJTDCPNHFIFSjaMiv3",
         "kVSldUDMRrOEZ6leYyCH",
         "cioXq1uxnn3YW0q2vrTX",
         "1988-07-16T12:10:57.000+0000",
         false,
         5491,
         5123,
         27611,
         "5MQgJkCqM1LbNrzsqU3F",
         "f87lbJTMJBbReigiY4CT",
         "eLMy8KPZ1GiaagN4IrGb",
         "Z9fmBcT3qYtGEd3qkgaH",
         "dc4dedce295b91818f120dfd2edd432d440267cf2b52d0ac9524b42bda1222c6",
         "007d6c0c856e08c73fb2024b99587b7e6430f070e3972fbeae9c6858ef196cbd"
        ],
        [
         27383,
         6737,
         true,
         "1992-07-13T19:00:00.000+0000",
         3920,
         "2019-04-19T05:00:00.000+0000",
         "l0SFDHzgM9H8GZNdKhKB",
         "2020-02-17T18:00:00.000+0000",
         "DdoWPXpYFlsQ7clNq63B",
         "WkIUIwXF7Uk5DMdWdtIH",
         true,
         false,
         "bS0dLWnWAThkPsf16DuE",
         4225,
         "AAAAAAAAAAAAAAAAAAAAAAAGLTQ=",
         "K2N30Q3nZSyy9QCokWsU",
         false,
         "1973-02-09T06:26:42.000+0000",
         "w59dEc21vZoboHPI5Uiu",
         "ALFLCiUHN2yWkQLDm9EE",
         "RvwzRLaXMo27G0rm6tNB",
         "gdheUgTeKHQ2P3001L07",
         "lZ68ddnW44TrG8Ht23aD",
         "1990-03-01T14:04:15.000+0000",
         false,
         17723,
         29544,
         25886,
         "ouKoUz8ONHXSJHR5YyWu",
         "bsVpPzOuRqgrUarSQmda",
         "IhwJODXGimMheO2qNzyl",
         "hETMRgYJbnr3UMzSxJnE",
         "ad7f5bb92174d32c98633fabafc18422cf52b3ab5cc94e9e33db8fb0a1bf5cf2",
         "c5274dab7db63006b4fd3e1994e4088d16d7da74de96b5a41a44d68678a230d5"
        ]
       ],
       "datasetInfos": [],
       "dbfsResultPath": null,
       "isJsonSchema": true,
       "metadata": {},
       "overflow": false,
       "plotOptions": {
        "customPlotOptions": {},
        "displayType": "table",
        "pivotAggregation": null,
        "pivotColumns": null,
        "xColumns": null,
        "yColumns": null
       },
       "removedWidgets": [],
       "schema": [
        {
         "metadata": "{}",
         "name": "SequenceID",
         "type": "\"integer\""
        },
        {
         "metadata": "{}",
         "name": "ReferralID",
         "type": "\"integer\""
        },
        {
         "metadata": "{}",
         "name": "InitialContactFlag",
         "type": "\"boolean\""
        },
        {
         "metadata": "{}",
         "name": "ActualTime",
         "type": "\"timestamp\""
        },
        {
         "metadata": "{}",
         "name": "ActualDuration",
         "type": "\"integer\""
        },
        {
         "metadata": "{}",
         "name": "ArrivalTime",
         "type": "\"timestamp\""
        },
        {
         "metadata": "{}",
         "name": "Outcome",
         "type": "\"string\""
        },
        {
         "metadata": "{}",
         "name": "CancellationDateTime",
         "type": "\"timestamp\""
        },
        {
         "metadata": "{}",
         "name": "CancellationReason",
         "type": "\"string\""
        },
        {
         "metadata": "{}",
         "name": "CancellationBy",
         "type": "\"string\""
        },
        {
         "metadata": "{}",
         "name": "NonClientAppointmentFlag",
         "type": "\"boolean\""
        },
        {
         "metadata": "{}",
         "name": "FaceToFaceContact",
         "type": "\"boolean\""
        },
        {
         "metadata": "{}",
         "name": "StaffProfessionalGroup",
         "type": "\"string\""
        },
        {
         "metadata": "{}",
         "name": "ContactID",
         "type": "\"integer\""
        },
        {
         "metadata": "{}",
         "name": "TimeStamps",
         "type": "\"binary\""
        },
        {
         "metadata": "{}",
         "name": "AppointmentConsultationMedium",
         "type": "\"string\""
        },
        {
         "metadata": "{}",
         "name": "ProxyContact",
         "type": "\"boolean\""
        },
        {
         "metadata": "{}",
         "name": "SecondArrivalTime",
         "type": "\"timestamp\""
        },
        {
         "metadata": "{}",
         "name": "BookedStatus",
         "type": "\"string\""
        },
        {
         "metadata": "{}",
         "name": "InterpreterStatus",
         "type": "\"string\""
        },
        {
         "metadata": "{}",
         "name": "InterpreterLanguage",
         "type": "\"string\""
        },
        {
         "metadata": "{}",
         "name": "TransportStatus",
         "type": "\"string\""
        },
        {
         "metadata": "{}",
         "name": "CancellationOnBehalfOf",
         "type": "\"string\""
        },
        {
         "metadata": "{}",
         "name": "CancellationDateTimestamp",
         "type": "\"timestamp\""
        },
        {
         "metadata": "{}",
         "name": "IsFamilyMember",
         "type": "\"boolean\""
        },
        {
         "metadata": "{}",
         "name": "DischargeReport",
         "type": "\"integer\""
        },
        {
         "metadata": "{}",
         "name": "InviteType",
         "type": "\"integer\""
        },
        {
         "metadata": "{}",
         "name": "ePathwayID",
         "type": "\"integer\""
        },
        {
         "metadata": "{}",
         "name": "PerinatalMhAss",
         "type": "\"string\""
        },
        {
         "metadata": "{}",
         "name": "IMCA",
         "type": "\"string\""
        },
        {
         "metadata": "{}",
         "name": "IMHA",
         "type": "\"string\""
        },
        {
         "metadata": "{}",
         "name": "ReasonableAdjMade",
         "type": "\"string\""
        },
        {
         "metadata": "{}",
         "name": "ClientID_Hash",
         "type": "\"string\""
        },
        {
         "metadata": "{}",
         "name": "RelatedClientID_Hash",
         "type": "\"string\""
        }
       ],
       "type": "table"
      }
     },
     "output_type": "display_data"
    }
   ],
   "source": [
    "# For debugging and testing purposes (To Be Deleted)\n",
    "#test = session.read.parquet(\n",
    "#    f\"wasbs://{GOLD_CONTAINER}@{STORAGE_CONNECTOR}/dboAmsAppointmentContact.txt\"\n",
    "#)\n",
    "#test.display()"
   ]
  }
 ],
 "metadata": {
  "application/vnd.databricks.v1+notebook": {
   "dashboards": [],
   "language": "python",
   "notebookMetadata": {
    "pythonIndentUnit": 4
   },
   "notebookName": "david_data_pipeline",
   "widgets": {}
  }
 },
 "nbformat": 4,
 "nbformat_minor": 0
}
